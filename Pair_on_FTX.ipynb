{
  "nbformat": 4,
  "nbformat_minor": 0,
  "metadata": {
    "colab": {
      "name": "Pair on FTX.ipynb",
      "provenance": [],
      "collapsed_sections": [],
      "authorship_tag": "ABX9TyP9OU658JnCagjQvZOeqMnd",
      "include_colab_link": true
    },
    "kernelspec": {
      "name": "python3",
      "display_name": "Python 3"
    },
    "language_info": {
      "name": "python"
    }
  },
  "cells": [
    {
      "cell_type": "markdown",
      "metadata": {
        "id": "view-in-github",
        "colab_type": "text"
      },
      "source": [
        "<a href=\"https://colab.research.google.com/github/cartejaune/cBot-Project/blob/main/Pair_on_FTX.ipynb\" target=\"_parent\"><img src=\"https://colab.research.google.com/assets/colab-badge.svg\" alt=\"Open In Colab\"/></a>"
      ]
    },
    {
      "cell_type": "code",
      "execution_count": 7,
      "metadata": {
        "colab": {
          "base_uri": "https://localhost:8080/"
        },
        "id": "0LkqFvJX7iJj",
        "outputId": "cfccf1e4-27bd-4910-aa0c-356660e50a74"
      },
      "outputs": [
        {
          "output_type": "stream",
          "name": "stdout",
          "text": [
            "Requirement already satisfied: ta in /usr/local/lib/python3.7/dist-packages (0.9.0)\n",
            "Requirement already satisfied: numpy in /usr/local/lib/python3.7/dist-packages (from ta) (1.19.5)\n",
            "Requirement already satisfied: pandas in /usr/local/lib/python3.7/dist-packages (from ta) (1.3.5)\n",
            "Requirement already satisfied: python-dateutil>=2.7.3 in /usr/local/lib/python3.7/dist-packages (from pandas->ta) (2.8.2)\n",
            "Requirement already satisfied: pytz>=2017.3 in /usr/local/lib/python3.7/dist-packages (from pandas->ta) (2018.9)\n",
            "Requirement already satisfied: six>=1.5 in /usr/local/lib/python3.7/dist-packages (from python-dateutil>=2.7.3->pandas->ta) (1.15.0)\n",
            "Requirement already satisfied: requests in /usr/local/lib/python3.7/dist-packages (2.23.0)\n",
            "Requirement already satisfied: chardet<4,>=3.0.2 in /usr/local/lib/python3.7/dist-packages (from requests) (3.0.4)\n",
            "Requirement already satisfied: idna<3,>=2.5 in /usr/local/lib/python3.7/dist-packages (from requests) (2.10)\n",
            "Requirement already satisfied: certifi>=2017.4.17 in /usr/local/lib/python3.7/dist-packages (from requests) (2021.10.8)\n",
            "Requirement already satisfied: urllib3!=1.25.0,!=1.25.1,<1.26,>=1.21.1 in /usr/local/lib/python3.7/dist-packages (from requests) (1.24.3)\n"
          ]
        }
      ],
      "source": [
        "! pip install ta\n",
        "! pip install requests"
      ]
    },
    {
      "cell_type": "code",
      "source": [
        "import pandas as pd\n",
        "import requests\n",
        "\n",
        "#*******************\n",
        "# variable a adapter\n",
        "#*******************\n",
        "\n",
        "nombre_de_pairs = 10\n",
        "\n",
        "\n",
        "try:\n",
        "      liste_pairs = requests.get('https://ftx.com/api/markets').json()\n",
        "      #print(liste_pairs)\n",
        "except Exception as e:\n",
        "      print(f'Error obtaining BTC old data: {e}')\n",
        "dataResponse = liste_pairs['result']\n",
        "df = pd.DataFrame(dataResponse, columns = ['name','type','volumeUsd24h','quoteCurrency','baseCurrency'])\n",
        "df.drop(df.loc[df['type']=='future'].index, inplace=True)\n",
        "df.drop(df.loc[df['quoteCurrency']=='USDT'].index, inplace=True)\n",
        "df.drop(df.loc[df['quoteCurrency']=='BTC'].index, inplace=True)\n",
        "#df.drop(df.columns.difference(['name','type']), 1, inplace=True)\n",
        "df.sort_values(by = 'volumeUsd24h',ascending=False, inplace=True)\n",
        "#print(df)\n",
        "liste_pairs={}\n",
        "i=1\n",
        "print('pairList = [')\n",
        "for index, row in df.iterrows():\n",
        "  if i<nombre_de_pairs :\n",
        "    print('\\'{}/{}\\','.format(row['baseCurrency'],row['quoteCurrency']))\n",
        "\n",
        "  if i==nombre_de_pairs :\n",
        "    print('\\'{}/{}\\''.format(row['baseCurrency'],row['quoteCurrency']))\n",
        "    print(']')\n",
        "  i=i+1\n",
        "\n"
      ],
      "metadata": {
        "colab": {
          "base_uri": "https://localhost:8080/"
        },
        "id": "anVi-tvm7rYd",
        "outputId": "514e7a2f-e44b-47ba-90bc-a8ac81d43bfe"
      },
      "execution_count": 78,
      "outputs": [
        {
          "output_type": "stream",
          "name": "stdout",
          "text": [
            "pairList = [\n",
            "'BTC/USD',\n",
            "'ETH/USD',\n",
            "'SOL/USD',\n",
            "'USDT/USD',\n",
            "'XRP/USD',\n",
            "'MATIC/USD',\n",
            "'BNB/USD',\n",
            "'FTT/USD',\n",
            "'ETH/BTC',\n",
            "'FTM/USD'\n",
            "]\n"
          ]
        }
      ]
    }
  ]
}
